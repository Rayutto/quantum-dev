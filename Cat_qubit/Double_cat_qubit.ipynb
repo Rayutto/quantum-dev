{
 "cells": [
  {
   "cell_type": "code",
   "execution_count": null,
   "id": "9ead0905",
   "metadata": {},
   "outputs": [],
   "source": [
    "import numpy as np\n",
    "import matplotlib.pyplot as plt\n",
    "from qutip import Qobj, basis, qeye, identity, mesolve"
   ]
  }
 ],
 "metadata": {
  "language_info": {
   "name": "python"
  }
 },
 "nbformat": 4,
 "nbformat_minor": 5
}
